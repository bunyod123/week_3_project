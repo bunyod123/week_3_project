{
 "cells": [
  {
   "cell_type": "code",
   "execution_count": 2,
   "id": "85240e54",
   "metadata": {},
   "outputs": [],
   "source": [
    "import logging\n",
    "\n",
    "logging.basicConfig(filename=r\"C:\\Users\\bunyo\\OneDrive\\Desktop\\3_week_project\\log\\otherInfo.log\",\n",
    "filemode='a',\n",
    "level=logging.INFO,\n",
    "format=\"%(asctime)s-%(levelname)s-%(message)s\"\n",
    ")\n",
    "\n",
    "logging.info(\"okay buddy\")"
   ]
  },
  {
   "cell_type": "code",
   "execution_count": 2,
   "id": "e0428e5a",
   "metadata": {},
   "outputs": [],
   "source": [
    "import pandas as pd"
   ]
  },
  {
   "cell_type": "code",
   "execution_count": 14,
   "id": "a5caad1b",
   "metadata": {},
   "outputs": [
    {
     "ename": "NameError",
     "evalue": "name 'num' is not defined",
     "output_type": "error",
     "traceback": [
      "\u001b[1;31m---------------------------------------------------------------------------\u001b[0m",
      "\u001b[1;31mNameError\u001b[0m                                 Traceback (most recent call last)",
      "Cell \u001b[1;32mIn[14], line 10\u001b[0m\n\u001b[0;32m      6\u001b[0m \u001b[38;5;28;01mfrom\u001b[39;00m\u001b[38;5;250m \u001b[39m\u001b[38;5;21;01mevaluate\u001b[39;00m\u001b[38;5;250m \u001b[39m\u001b[38;5;28;01mimport\u001b[39;00m qosh\n\u001b[0;32m      8\u001b[0m ww \u001b[38;5;241m=\u001b[39m qosh(\u001b[38;5;241m5\u001b[39m)\n\u001b[1;32m---> 10\u001b[0m w \u001b[38;5;241m=\u001b[39m qosh\u001b[38;5;241m.\u001b[39mkop(\u001b[38;5;241m3\u001b[39m)\n\u001b[0;32m     12\u001b[0m \u001b[38;5;28mprint\u001b[39m(w)\n",
      "File \u001b[1;32m~\\OneDrive\\Desktop\\3_week_project\\source\\evaluate.py:10\u001b[0m, in \u001b[0;36mqosh.kop\u001b[1;34m(self)\u001b[0m\n\u001b[0;32m      9\u001b[0m \u001b[38;5;28;01mdef\u001b[39;00m\u001b[38;5;250m \u001b[39m\u001b[38;5;21mkop\u001b[39m(\u001b[38;5;28mself\u001b[39m):\n\u001b[1;32m---> 10\u001b[0m     \u001b[38;5;28;01mreturn\u001b[39;00m num \u001b[38;5;241m*\u001b[39m\u001b[38;5;241m*\u001b[39m \u001b[38;5;241m3\u001b[39m\n\u001b[0;32m     11\u001b[0m     logger\u001b[38;5;241m.\u001b[39minfo(\u001b[38;5;124m\"\u001b[39m\u001b[38;5;124m3 ga kopaytirildi\u001b[39m\u001b[38;5;124m\"\u001b[39m)\n",
      "\u001b[1;31mNameError\u001b[0m: name 'num' is not defined"
     ]
    }
   ],
   "source": [
    "import os\n",
    "import sys\n",
    "\n",
    "sys.path.append(r\"C:\\Users\\bunyo\\OneDrive\\Desktop\\3_week_project\\source\")\n",
    "\n",
    "from evaluate import qosh\n",
    "\n",
    "ww = qosh(5)\n",
    "\n",
    "w = qosh.kop(3)\n",
    "\n",
    "print(w)"
   ]
  }
 ],
 "metadata": {
  "kernelspec": {
   "display_name": "base",
   "language": "python",
   "name": "python3"
  },
  "language_info": {
   "codemirror_mode": {
    "name": "ipython",
    "version": 3
   },
   "file_extension": ".py",
   "mimetype": "text/x-python",
   "name": "python",
   "nbconvert_exporter": "python",
   "pygments_lexer": "ipython3",
   "version": "3.13.5"
  }
 },
 "nbformat": 4,
 "nbformat_minor": 5
}
